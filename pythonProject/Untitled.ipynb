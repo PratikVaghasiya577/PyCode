{
 "cells": [
  {
   "cell_type": "code",
   "execution_count": 27,
   "id": "6d2d11e5",
   "metadata": {
    "scrolled": true
   },
   "outputs": [
    {
     "name": "stdout",
     "output_type": "stream",
     "text": [
      "['HipHop' 'Dance']\n"
     ]
    },
    {
     "name": "stderr",
     "output_type": "stream",
     "text": [
      "/Users/rutavaghasiya2339gmail.com/opt/anaconda3/lib/python3.9/site-packages/sklearn/base.py:450: UserWarning: X does not have valid feature names, but DecisionTreeClassifier was fitted with feature names\n",
      "  warnings.warn(\n"
     ]
    }
   ],
   "source": [
    "import pandas as pd \n",
    "from sklearn.tree import DecisionTreeClassifier as DCT\n",
    "music_data = pd.read_csv('music-csv.csv')\n",
    "X = music_data.drop(columns = ['genre'])\n",
    "Y = music_data['genre']\n",
    "model = DCT()\n",
    "model.fit(X,Y)\n",
    "predictions = model.predict([[21,1],[22,0]])\n",
    "print(predictions)\n"
   ]
  },
  {
   "cell_type": "code",
   "execution_count": 10,
   "id": "aa6ca6a2",
   "metadata": {},
   "outputs": [
    {
     "name": "stdout",
     "output_type": "stream",
     "text": [
      "0\n",
      "1\n",
      "2\n"
     ]
    }
   ],
   "source": [
    "for i in range(3):\n",
    "    print(i)"
   ]
  },
  {
   "cell_type": "code",
   "execution_count": 37,
   "id": "621876fe",
   "metadata": {},
   "outputs": [],
   "source": [
    "number = ['1','4','5','6','3']\n",
    "number.sort()"
   ]
  },
  {
   "cell_type": "code",
   "execution_count": 31,
   "id": "d7a770aa",
   "metadata": {},
   "outputs": [
    {
     "name": "stdout",
     "output_type": "stream",
     "text": [
      ">5\n",
      "1 6 11 16 21\n",
      "2 7 12 17 22\n",
      "3 8 13 18 23\n",
      "4 9 14 19 24\n",
      "5 10 15 20 25\n"
     ]
    }
   ],
   "source": [
    "number = int(input('>'))\n",
    "for i in range(1,number+1):\n",
    "    j = i+5\n",
    "    h = j+5\n",
    "    k = h+5\n",
    "    print(i,j,h,k,k+5)\n",
    "    "
   ]
  }
 ],
 "metadata": {
  "kernelspec": {
   "display_name": "Python 3 (ipykernel)",
   "language": "python",
   "name": "python3"
  },
  "language_info": {
   "codemirror_mode": {
    "name": "ipython",
    "version": 3
   },
   "file_extension": ".py",
   "mimetype": "text/x-python",
   "name": "python",
   "nbconvert_exporter": "python",
   "pygments_lexer": "ipython3",
   "version": "3.9.12"
  }
 },
 "nbformat": 4,
 "nbformat_minor": 5
}
